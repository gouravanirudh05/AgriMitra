{
  "nbformat": 4,
  "nbformat_minor": 0,
  "metadata": {
    "colab": {
      "provenance": []
    },
    "kernelspec": {
      "name": "python3",
      "display_name": "Python 3"
    },
    "language_info": {
      "name": "python"
    }
  },
  "cells": [
    {
      "cell_type": "code",
      "source": [
        "pip install pymupdf4llm"
      ],
      "metadata": {
        "colab": {
          "base_uri": "https://localhost:8080/"
        },
        "id": "Y80CzIr0JpGR",
        "outputId": "4a4b3f44-12f9-4ed5-f2be-3437c3ad1035"
      },
      "execution_count": 2,
      "outputs": [
        {
          "output_type": "stream",
          "name": "stdout",
          "text": [
            "Collecting pymupdf4llm\n",
            "  Downloading pymupdf4llm-0.0.27-py3-none-any.whl.metadata (4.8 kB)\n",
            "Collecting pymupdf>=1.26.3 (from pymupdf4llm)\n",
            "  Downloading pymupdf-1.26.3-cp39-abi3-manylinux_2_28_x86_64.whl.metadata (3.4 kB)\n",
            "Downloading pymupdf4llm-0.0.27-py3-none-any.whl (30 kB)\n",
            "Downloading pymupdf-1.26.3-cp39-abi3-manylinux_2_28_x86_64.whl (24.1 MB)\n",
            "\u001b[2K   \u001b[90m━━━━━━━━━━━━━━━━━━━━━━━━━━━━━━━━━━━━━━━━\u001b[0m \u001b[32m24.1/24.1 MB\u001b[0m \u001b[31m71.1 MB/s\u001b[0m eta \u001b[36m0:00:00\u001b[0m\n",
            "\u001b[?25hInstalling collected packages: pymupdf, pymupdf4llm\n",
            "Successfully installed pymupdf-1.26.3 pymupdf4llm-0.0.27\n"
          ]
        }
      ]
    },
    {
      "cell_type": "code",
      "execution_count": 13,
      "metadata": {
        "colab": {
          "base_uri": "https://localhost:8080/"
        },
        "id": "gy0vtJp_F2k7",
        "outputId": "9e804292-b71f-4c10-d6fe-aa49502a5bde"
      },
      "outputs": [
        {
          "output_type": "stream",
          "name": "stdout",
          "text": [
            "04_0401_2025-08-01_E.pdf\n",
            "Downloaded PDF for 2025-08-01\n",
            "|Medium range weather forecast|Col2|Col3|Col4|Col5|Col6|\n",
            "|---|---|---|---|---|---|\n",
            "|~~**Parameters/ Date**~~|**02-08-2025**|**03-08-2025**|**04-08-2025**|**05-08-2025**|**06-08-2025**|\n",
            "|**Rainfall**<br>**(mm) **|**4 **|**4 **|**3 **|**3 **|**2 **|\n",
            "|~~**Maximum**~~<br>**temperature (0C)**|**34**|**33**|**33**|**33**|**32**|\n",
            "|**Minimum**<br>**temperature (0C)**|**26**|**26**|**26**|**26**|**26**|\n",
            "|**Maximum relative**<br>**humidity (%)**|**80**|**80**|**80**|**80**|**80**|\n",
            "|**Minimum relative**<br>**humidity (%)**|**70**|**70**|**65**|**65**|**70**|\n",
            "|**Wind speed**<br>**(km/hr)**|**15**|**15**|**16**|**17**|**17**|\n",
            "|~~**Wind direction**~~<br>**(0) **|**225**|**228**|**231**|**228**|**228**|\n",
            "|**Cloud cover**<br>**(Octa)**|**6 **|**7 **|**8 **|**8 **|**7 **|\n",
            "|**Weather summary**|**Weather summary**|**Weather summary**|**Weather summary**|**Weather summary**|**Weather summary**|\n",
            "|**As per weather forecast received from Meteorological Centre, Ahmedabad probability of**<br>**cloudy sky with light rainfall during 02-08-2025 to 05-08-2025 and very light rainfall on**<br>**06-08-2025 at isolated places very likely. Extended Range Forecast: Maximum**<br>**temperature likely to be above normal, minimum temperature likely to be normal and**<br>**rainfall likely to be below normal during subsequent week 06 to 12 August, 2025 in**<br>**Gujarat region.**|**As per weather forecast received from Meteorological Centre, Ahmedabad probability of**<br>**cloudy sky with light rainfall during 02-08-2025 to 05-08-2025 and very light rainfall on**<br>**06-08-2025 at isolated places very likely. Extended Range Forecast: Maximum**<br>**temperature likely to be above normal, minimum temperature likely to be normal and**<br>**rainfall likely to be below normal during subsequent week 06 to 12 August, 2025 in**<br>**Gujarat region.**|**As per weather forecast received from Meteorological Centre, Ahmedabad probability of**<br>**cloudy sky with light rainfall during 02-08-2025 to 05-08-2025 and very light rainfall on**<br>**06-08-2025 at isolated places very likely. Extended Range Forecast: Maximum**<br>**temperature likely to be above normal, minimum temperature likely to be normal and**<br>**rainfall likely to be below normal during subsequent week 06 to 12 August, 2025 in**<br>**Gujarat region.**|**As per weather forecast received from Meteorological Centre, Ahmedabad probability of**<br>**cloudy sky with light rainfall during 02-08-2025 to 05-08-2025 and very light rainfall on**<br>**06-08-2025 at isolated places very likely. Extended Range Forecast: Maximum**<br>**temperature likely to be above normal, minimum temperature likely to be normal and**<br>**rainfall likely to be below normal during subsequent week 06 to 12 August, 2025 in**<br>**Gujarat region.**|**As per weather forecast received from Meteorological Centre, Ahmedabad probability of**<br>**cloudy sky with light rainfall during 02-08-2025 to 05-08-2025 and very light rainfall on**<br>**06-08-2025 at isolated places very likely. Extended Range Forecast: Maximum**<br>**temperature likely to be above normal, minimum temperature likely to be normal and**<br>**rainfall likely to be below normal during subsequent week 06 to 12 August, 2025 in**<br>**Gujarat region.**|**As per weather forecast received from Meteorological Centre, Ahmedabad probability of**<br>**cloudy sky with light rainfall during 02-08-2025 to 05-08-2025 and very light rainfall on**<br>**06-08-2025 at isolated places very likely. Extended Range Forecast: Maximum**<br>**temperature likely to be above normal, minimum temperature likely to be normal and**<br>**rainfall likely to be below normal during subsequent week 06 to 12 August, 2025 in**<br>**Gujarat region.**|\n",
            "\n",
            "\n",
            "|Advisory|Col2|Col3|\n",
            "|---|---|---|\n",
            "|**General**<br>**advice**|**Undertake interculturing, weeding, thinning, gap filling, etc operations at**<br>**vapsa condition in sown****_kharif_ crops. Undertake spraying of recommended**<br>**weedicide, fungicide or pesticides as per requirement in sown****_kharif_ crops**<br>**during non-rainy period and calm wind condition by adding detergent**<br>**powder or sticker with pesticides or fungicides. Farmers are advised to**<br>**download MEGHDOOT mobile application for acquiring information**<br>**regarding Agromet Advisory in Gujarati language. Click on following link to**<br>**download**<br>**this**<br>**application **<br>**user: **<br>**https://play,google.com/store/apps/details?id=com.aas.meghdoot **|**Undertake interculturing, weeding, thinning, gap filling, etc operations at**<br>**vapsa condition in sown****_kharif_ crops. Undertake spraying of recommended**<br>**weedicide, fungicide or pesticides as per requirement in sown****_kharif_ crops**<br>**during non-rainy period and calm wind condition by adding detergent**<br>**powder or sticker with pesticides or fungicides. Farmers are advised to**<br>**download MEGHDOOT mobile application for acquiring information**<br>**regarding Agromet Advisory in Gujarati language. Click on following link to**<br>**download**<br>**this**<br>**application **<br>**user: **<br>**https://play,google.com/store/apps/details?id=com.aas.meghdoot **|\n",
            "|**Field Crops**|**Stage**|**Advisory**|\n",
            "|**Rice**|**Transplanting/**<br>**Vegetative**|~~**Transplant 20-25 days old rice seedlings in well prepared**~~<br>**main field and use 2-3 plants per hill for planting with**<br>**spacing of 20 cm between row and 15 cm between plants. **<br>**Apply 32 kg/ha, 40 kg/ha and 48 kg/ha nitrogen for early**<br>**variety, mid-late variety and late variety respectively and**<br>**25 kg/ha phosphorus as a basal dose of fertilizer.** **Apply**<br>**zinc sulfate 25 kg/ha as a basal fertilizer in soil having zinc**<br>**deficiency.**|\n",
            "|**Cotton**|**Vegetative**|**Undertake the spraying of weedicides like Fenoxaprop-p-**<br>**ethyl 9.3 EC 67.5 g active ingredient/ha (15 ml/10 litres of**<br>**water)**<br>**or**<br>**Quizalofop**<br>**ethyl**<br>**5%**<br>**EC**<br>**50**<br>**g **<br>**active **<br>**ingredient/ha (20 ml/10 litres of water) during non-rainy**<br>**period and also undertake the interculturing and weeding**<br>**operation at 30 and 60 days after sowing.**|\n",
            "|**Green**<br>**gram**|**Vegetative**|**Undertake interculturing and hand weeding operations at**<br>**20, 40 and 60 days after** **sowing under vapsa condition.**|\n",
            "|**Black gram**|**Vegetative**|**Undertake interculturing and hand weeding operations at**<br>**20, 40 and 60 days after** **sowing under vapsa condition.**|\n",
            "|**Pigeon pea**|**Vegetative**|**Undertake interculturing and hand weeding operations at**<br>**20, 40 and 60 days after** **sowing under vapsa condition.**|\n",
            "|**Pearl millet**|**Tillering**|**Undertake interculturing, weeding, thinning, gap filling,** **etc**<br>**operations at vapsa condition.**|\n",
            "|**Fodder**<br>**maize**|**Vegetative**|**Undertake interculturing, weeding, thinning, gap filling,** **etc**<br>**operations at vapsa condition.**|\n",
            "|**Fodder**<br>**sorghum**|**Vegetative**|**Undertake interculturing, weeding, thinning, gap filling,** **etc**<br>**operations at vapsa condition.**|\n",
            "|**Fodder**<br>**bajra**|**Vegetative**|**Undertake interculturing, weeding, thinning, gap filling,** **etc**<br>**operations at vapsa condition.**|\n",
            "\n",
            "\n",
            "|Fruit Crop|Stage|Advisory|\n",
            "|---|---|---|\n",
            "|**Chilli **|**Transplanting/**<br>**Vegetative**|**Seedlings can be grown when sufficient rainfall received in**<br>**July month to till 15 September with spacing of 60 cm x 60**<br>**cm. Undertake interculturing, weeding, gap filling, etc**<br>**operations at vapsa condition in transplanted field.**|\n",
            "|**Tomato **|**Transplanting/**<br>**Vegetative **|**Seedlings can be grown when sufficient rainfall received in**<br>**July month with spacing of 90 cm x 45 cm or 75 cm x 45 cm.**<br>**Undertake**<br>**interculturing,**<br>**weeding,**<br>**gap**<br>**filling,**<br>**etc**<br>**operations at vapsa condition in transplanted field. **|\n",
            "|**Brinjal **|**Transplanting/**<br>**Vegetative **|**Seedlings can be grown when sufficient rainfall received in**<br>**July month with spacing of 90 cm x 60 cm or 90 cm x 75 cm.**<br>**Undertake**<br>**interculturing,**<br>**weeding,**<br>**gap**<br>**filling,**<br>**etc**<br>**operations at vapsa condition in transplanted field. **|\n",
            "|~~**Livestock**~~|~~**Livestock**~~|~~**Livestock**~~|\n",
            "|~~**Keep animals at safer place. Vaccinate the animals against outbreaks of diseases like Foot**~~<br>**and Mouth Disease (FMD), Haemorrhagic Septicaemia (H.S.) and Black Quarter (B.Q.).**|~~**Keep animals at safer place. Vaccinate the animals against outbreaks of diseases like Foot**~~<br>**and Mouth Disease (FMD), Haemorrhagic Septicaemia (H.S.) and Black Quarter (B.Q.).**|~~**Keep animals at safer place. Vaccinate the animals against outbreaks of diseases like Foot**~~<br>**and Mouth Disease (FMD), Haemorrhagic Septicaemia (H.S.) and Black Quarter (B.Q.).**|\n",
            "\n",
            "\n",
            "\n"
          ]
        }
      ],
      "source": [
        "import pandas as pd\n",
        "import requests\n",
        "from datetime import datetime, timedelta\n",
        "import os\n",
        "import pymupdf4llm\n",
        "from pathlib import Path\n",
        "\n",
        "\n",
        "class IMDDataHandler:\n",
        "    def __init__(self, filepath):\n",
        "        if filepath.endswith(\".csv\"):\n",
        "            self.df = pd.read_csv(filepath)\n",
        "        else:\n",
        "            self.df = pd.read_excel(filepath)\n",
        "\n",
        "    def get_imd_code(self, district):\n",
        "        match = self.df[self.df['District'].str.lower() == district.lower()]\n",
        "        if not match.empty:\n",
        "            return match.iloc[0]['IMD Code']\n",
        "        raise ValueError(f\"District '{district}' not found in the data.\")\n",
        "\n",
        "\n",
        "class IMDPDFDownloader:\n",
        "    def __init__(self, save_dir=\"downloads\"):\n",
        "        self.base_url = \"https://imdagrimet.gov.in/accessData.php?path=Files/District%20AAS%20Bulletin/English%20Bulletin/\"\n",
        "        self.save_dir = save_dir\n",
        "        os.makedirs(save_dir, exist_ok=True)\n",
        "\n",
        "    def download_pdf(self, imd_code, date_str):\n",
        "        filename = f\"{imd_code}_{date_str}_E.pdf\"\n",
        "        url = f\"{self.base_url}/{filename}\"\n",
        "        print(filename)\n",
        "        # local_path = os.path.join(self.save_dir, filename)\n",
        "        local_path = Path(filename)\n",
        "        try:\n",
        "            response = requests.get(url)\n",
        "            if b\"file not found\" in response.content.lower() or len(response.content.strip()) < 100:\n",
        "                print(f\"PDF not found at {url}\")\n",
        "                return None\n",
        "            if response.status_code == 200:\n",
        "                local_path.write_bytes(response.content)\n",
        "                return local_path\n",
        "        except requests.RequestException as e:\n",
        "            print(f\"Request failed: {e}\")\n",
        "        return None\n",
        "\n",
        "    def try_latest_pdf(self, imd_code, max_days=5):\n",
        "        today = datetime.today()\n",
        "        for delta in range(max_days):\n",
        "            date = today - timedelta(days=delta)\n",
        "            date_str = date.strftime(\"%Y-%m-%d\")\n",
        "            pdf_path = self.download_pdf(imd_code, date_str)\n",
        "            if pdf_path:\n",
        "                print(f\"Downloaded PDF for {date_str}\")\n",
        "                return pdf_path\n",
        "        raise FileNotFoundError(f\"No PDF found for IMDCode {imd_code} in the last {max_days} days.\")\n",
        "\n",
        "\n",
        "class IMDPDFProcessor:\n",
        "    def __init__(self, pdf_path):\n",
        "        self.pdf_path = pdf_path\n",
        "\n",
        "    def extract_markdown(self):\n",
        "        return pymupdf4llm.to_markdown(self.pdf_path)\n",
        "\n",
        "\n",
        "# ---------------- Example Usage ----------------\n",
        "\n",
        "def main():\n",
        "    # pymupdf4llm.to_markdown(\"downloads/04_0401_2025_08_01_E.pdf\")\n",
        "    # Load IMD codes\n",
        "    data_handler = IMDDataHandler(\"IMDCodes.csv\")  # or .xlsx\n",
        "    imd_code = data_handler.get_imd_code(\"Ahmedabad\")  # Replace with desired district\n",
        "\n",
        "    # Try downloading the most recent PDF\n",
        "    downloader = IMDPDFDownloader()\n",
        "    pdf_path = downloader.try_latest_pdf(imd_code)\n",
        "\n",
        "    # Extract content as markdown using pymupdf4llm\n",
        "    processor = IMDPDFProcessor(pdf_path)\n",
        "    markdown_content = processor.extract_markdown()\n",
        "\n",
        "    print(markdown_content)\n",
        "\n",
        "\n",
        "if __name__ == \"__main__\":\n",
        "    main()\n"
      ]
    }
  ]
}